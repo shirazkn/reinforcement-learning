{
 "cells": [
  {
   "cell_type": "code",
   "execution_count": 1,
   "metadata": {
    "colab": {},
    "colab_type": "code",
    "id": "5HD_POBR8V6L"
   },
   "outputs": [],
   "source": [
    "import numpy as np\n",
    "from matplotlib import pyplot as plt"
   ]
  },
  {
   "cell_type": "code",
   "execution_count": 2,
   "metadata": {
    "colab": {},
    "colab_type": "code",
    "id": "I6Ktba6m8uHn"
   },
   "outputs": [],
   "source": [
    "# Problem specification\n",
    "GRID_N = 5  # Number of points on either axis of the grid\n",
    "GRID_SPACING = 1.0 # <float> spacing between points on the grid\n",
    "\n",
    "UNSAFE_CENTER = np.array([0.0, 0.0])\n",
    "UNSAFE_RADIUS = 1.5  # Radius of the 'dangerous area' in the middle\n",
    "SAFETY_CONSTRAINT_TYPE = \"SOFT\"\n",
    "SOFT_CONST_REWARD = -20.0\n",
    "\n",
    "ACTIONS = {\"UP\": -1, \"RIGHT\": +1}\n",
    "GOAL_STATE = [GRID_N - 1, GRID_N - 1]\n",
    "\n",
    "# Learning specifications\n",
    "GAMMA = 1.0\n",
    "LEARNING_RATE = 0.5\n",
    "GOAL_REWARD = +10.0\n",
    "TIMESTEP_REWARD = -1.0\n",
    "EPSILON = 0.3 #  For epsilon-greedy learning"
   ]
  },
  {
   "cell_type": "code",
   "execution_count": 3,
   "metadata": {
    "colab": {},
    "colab_type": "code",
    "id": "UZuWZ0zq82cC"
   },
   "outputs": [],
   "source": [
    "grid_side = (GRID_N-1) * GRID_SPACING\n",
    "grid_x = np.linspace(-grid_side*0.5, grid_side * 0.5, GRID_N)\n",
    "grid_y = grid_x.copy()"
   ]
  },
  {
   "cell_type": "code",
   "execution_count": 4,
   "metadata": {
    "colab": {},
    "colab_type": "code",
    "id": "ZfUt2LI59oJ9"
   },
   "outputs": [],
   "source": [
    "def plot_states(states):\n",
    "  x_val = [state[0] for state in states]\n",
    "  y_val = [state[1] for state in states]\n",
    "  plt.plot(x_val, y_val, 'ro')\n",
    "  plt.axis()\n",
    "  return"
   ]
  },
  {
   "cell_type": "code",
   "execution_count": 5,
   "metadata": {
    "colab": {},
    "colab_type": "code",
    "id": "Ht7WKP6k9ooJ"
   },
   "outputs": [],
   "source": [
    "def get_next_state(state, action):\n",
    "  next_state = [state[0], state[1]]\n",
    "  if action == 0:\n",
    "    next_state[1] = np.min([state[1] + 1, GRID_N - 1])\n",
    "\n",
    "  elif action == 1:\n",
    "    next_state[0] = np.min([state[0] + 1, GRID_N - 1])\n",
    "\n",
    "  return next_state\n",
    "\n",
    "def get_reward(next_state):\n",
    "    reward = 0.0\n",
    "    if SAFETY_CONSTRAINT_TYPE == \"SOFT\" and unsafe_state(next_state):\n",
    "        reward = SOFT_CONST_REWARD\n",
    "        \n",
    "    if np.all(next_state == GOAL_STATE):\n",
    "      return reward + GOAL_REWARD\n",
    "\n",
    "    else:\n",
    "      return reward + TIMESTEP_REWARD\n",
    "\n",
    "def update_q(state, action, next_state, reward, q_table):\n",
    "    \"\"\"\n",
    "    \"\"\"\n",
    "    next_q_max = np.max(q_table[next_state[0]][next_state[1]][:])\n",
    "    current_q = q_table[state[0]][state[1]][action]\n",
    "\n",
    "    loss = reward + GAMMA*next_q_max - current_q\n",
    "    q_table[state[0]][state[1]][action] += LEARNING_RATE*loss\n",
    "    return\n",
    "\n",
    "def get_action(state, q_table):\n",
    "    \"\"\"\n",
    "    Return index of most optimal action\n",
    "    \"\"\"\n",
    "    q_values = q_table[state[0]][state[1]][:]\n",
    "    optimal_action = np.argmax(q_values)\n",
    "\n",
    "    if np.random.uniform(0,1) < EPSILON:\n",
    "        return np.random.choice([0,1])\n",
    "\n",
    "    else:\n",
    "        return optimal_action\n",
    "\n",
    "def unsafe_state(state):\n",
    "    x = grid_x[state[0]]\n",
    "    y = grid_y[state[1]]\n",
    "    state_vec = np.array([x, y])\n",
    "    dist = state_vec - UNSAFE_CENTER\n",
    "    if np.dot(dist, dist) < UNSAFE_RADIUS**2:\n",
    "        return True\n",
    "    else: \n",
    "        return False"
   ]
  },
  {
   "cell_type": "code",
   "execution_count": 6,
   "metadata": {
    "colab": {
     "base_uri": "https://localhost:8080/",
     "height": 34
    },
    "colab_type": "code",
    "id": "aSVrSsa5GVyk",
    "outputId": "dbe04ebf-1950-4e12-f04f-4d73a3005e4f"
   },
   "outputs": [
    {
     "name": "stdout",
     "output_type": "stream",
     "text": [
      "[0, 0, 0, 1, 0]\n"
     ]
    }
   ],
   "source": [
    "EPSILON = 0.9\n",
    "DECAY = 0.9999\n",
    "N_EPISODES = 10000\n",
    "LEARNING_RATE = 0.1\n",
    "q_table = np.zeros([GRID_N, GRID_N, len(ACTIONS)])\n",
    "safe_episode = []\n",
    "for episode in range(N_EPISODES):\n",
    "    safe_episode.append(True)\n",
    "    state = [0, 0]\n",
    "    while True:\n",
    "        action = get_action(state, q_table)\n",
    "        next_state = get_next_state(state, action)\n",
    "        reward = get_reward(next_state)\n",
    "        update_q(state, action, next_state, reward, q_table)\n",
    "        state = next_state\n",
    "        \n",
    "        if unsafe_state(state):\n",
    "            safe_episode[-1] = False\n",
    "            \n",
    "        if np.all(next_state == GOAL_STATE):\n",
    "          break\n",
    "\n",
    "        EPSILON = EPSILON*DECAY\n",
    "\n",
    "# EPSILON = 0.0\n",
    "print([get_action([x, int(GRID_N/2)], q_table) for x in range(GRID_N)])"
   ]
  },
  {
   "cell_type": "code",
   "execution_count": 7,
   "metadata": {
    "colab": {},
    "colab_type": "code",
    "id": "5DMqG2oMGXIU"
   },
   "outputs": [],
   "source": [
    "q_max = []\n",
    "for x in range(GRID_N):\n",
    "  q_max.append([])\n",
    "  for y in range(GRID_N):\n",
    "    q_max[-1].append(np.max(q_table[x][y][:]))"
   ]
  },
  {
   "cell_type": "code",
   "execution_count": 8,
   "metadata": {
    "colab": {
     "base_uri": "https://localhost:8080/",
     "height": 442
    },
    "colab_type": "code",
    "id": "87whZXouGcvO",
    "outputId": "7debbc43-d074-4441-a8f3-065418de6b6f"
   },
   "outputs": [
    {
     "data": {
      "text/plain": [
       "0.0006479335975503439"
      ]
     },
     "execution_count": 8,
     "metadata": {},
     "output_type": "execute_result"
    }
   ],
   "source": []
  },
  {
   "cell_type": "code",
   "execution_count": 11,
   "metadata": {
    "colab": {},
    "colab_type": "code",
    "id": "yaIS42tuHkD_"
   },
   "outputs": [
    {
     "data": {
      "text/plain": [
       "[True,\n",
       " True,\n",
       " True,\n",
       " True,\n",
       " True,\n",
       " True,\n",
       " True,\n",
       " True,\n",
       " True,\n",
       " True,\n",
       " True,\n",
       " True,\n",
       " True,\n",
       " True,\n",
       " True,\n",
       " True,\n",
       " True,\n",
       " True,\n",
       " True,\n",
       " True]"
      ]
     },
     "execution_count": 11,
     "metadata": {},
     "output_type": "execute_result"
    }
   ],
   "source": []
  },
  {
   "cell_type": "code",
   "execution_count": null,
   "metadata": {
    "colab": {},
    "colab_type": "code",
    "id": "p_QUizVxOxUs"
   },
   "outputs": [],
   "source": []
  },
  {
   "cell_type": "code",
   "execution_count": null,
   "metadata": {
    "colab": {},
    "colab_type": "code",
    "id": "7aUEGKExOzL1"
   },
   "outputs": [],
   "source": []
  }
 ],
 "metadata": {
  "colab": {
   "collapsed_sections": [],
   "name": "Safe_Gridworld.ipynb",
   "provenance": []
  },
  "kernelspec": {
   "display_name": "Python 3",
   "language": "python",
   "name": "python3"
  },
  "language_info": {
   "codemirror_mode": {
    "name": "ipython",
    "version": 3
   },
   "file_extension": ".py",
   "mimetype": "text/x-python",
   "name": "python",
   "nbconvert_exporter": "python",
   "pygments_lexer": "ipython3",
   "version": "3.8.0"
  }
 },
 "nbformat": 4,
 "nbformat_minor": 1
}
